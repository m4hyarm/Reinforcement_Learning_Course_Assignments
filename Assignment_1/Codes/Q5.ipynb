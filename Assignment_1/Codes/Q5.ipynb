{
 "cells": [
  {
   "cell_type": "code",
   "execution_count": 1,
   "id": "fb705f07",
   "metadata": {},
   "outputs": [],
   "source": [
    "from BP_reward import get_reward\n",
    "import numpy as np\n",
    "import matplotlib.pyplot as plt\n",
    "import seaborn as sns\n",
    "import pandas as pd\n",
    "from statistics import NormalDist\n",
    "import scipy.stats\n",
    "from doctors import *"
   ]
  },
  {
   "cell_type": "markdown",
   "id": "0c779868",
   "metadata": {},
   "source": [
    "# Inputs"
   ]
  },
  {
   "cell_type": "code",
   "execution_count": 2,
   "id": "942d5007",
   "metadata": {},
   "outputs": [],
   "source": [
    "s_id = 810100476\n",
    "drugs = [1, 2]"
   ]
  },
  {
   "cell_type": "markdown",
   "id": "65a0346c",
   "metadata": {},
   "source": [
    "# Z-test"
   ]
  },
  {
   "cell_type": "code",
   "execution_count": 25,
   "id": "95221f44",
   "metadata": {},
   "outputs": [
    {
     "name": "stdout",
     "output_type": "stream",
     "text": [
      "P_value is : 1.0447198661722723e-13 \n",
      "Null hyphothesis rejected, So drug A is significantly better than B\n"
     ]
    }
   ],
   "source": [
    "drug_A, drug_B = [], []\n",
    "\n",
    "for i in range(50):\n",
    "    drug_A.append(get_reward(1, s_id))\n",
    "    drug_B.append(get_reward(2, s_id))\n",
    "\n",
    "z_stat = ( np.mean(drug_A) - np.mean(drug_B) ) / np.sqrt(( np.std(drug_A)**2 + np.std(drug_B)**2 ) / 100)\n",
    "p_value = 1 - scipy.stats.norm.cdf(z_stat) # one-sided ( right_tail )\n",
    "print('P_value is :', str(p_value), '\\nNull hyphothesis rejected, So drug A is significantly better than B')"
   ]
  },
  {
   "cell_type": "markdown",
   "id": "9950178a",
   "metadata": {},
   "source": [
    "---"
   ]
  }
 ],
 "metadata": {
  "kernelspec": {
   "display_name": "Python 3 (ipykernel)",
   "language": "python",
   "name": "python3"
  },
  "language_info": {
   "codemirror_mode": {
    "name": "ipython",
    "version": 3
   },
   "file_extension": ".py",
   "mimetype": "text/x-python",
   "name": "python",
   "nbconvert_exporter": "python",
   "pygments_lexer": "ipython3",
   "version": "3.9.12"
  }
 },
 "nbformat": 4,
 "nbformat_minor": 5
}
