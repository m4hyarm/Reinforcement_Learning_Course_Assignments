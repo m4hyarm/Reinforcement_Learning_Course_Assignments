{
 "cells": [
  {
   "cell_type": "code",
   "execution_count": 1,
   "id": "fb705f07",
   "metadata": {},
   "outputs": [],
   "source": [
    "from BP_reward import get_reward\n",
    "import numpy as np\n",
    "import matplotlib.pyplot as plt\n",
    "import seaborn as sns\n",
    "import pandas as pd\n",
    "from statistics import NormalDist\n",
    "import scipy.stats\n",
    "from doctors import *"
   ]
  },
  {
   "cell_type": "markdown",
   "id": "9f96a326",
   "metadata": {},
   "source": [
    "# Inputs"
   ]
  },
  {
   "cell_type": "code",
   "execution_count": 2,
   "id": "942d5007",
   "metadata": {},
   "outputs": [],
   "source": [
    "s_id = 810100476\n",
    "drugs = [1, 2]"
   ]
  },
  {
   "cell_type": "markdown",
   "id": "975c84f1",
   "metadata": {},
   "source": [
    "# Plots"
   ]
  },
  {
   "cell_type": "code",
   "execution_count": 6,
   "id": "c2341fc6",
   "metadata": {},
   "outputs": [
    {
     "data": {
      "image/png": "[encoded data removed]",
      "text/plain": [
       "<Figure size 720x432 with 1 Axes>"
      ]
     },
     "metadata": {
      "needs_background": "light"
     },
     "output_type": "display_data"
    }
   ],
   "source": [
    "size = 10\n",
    "rwrds = np.zeros([size, 3])\n",
    "\n",
    "for i in range(size):\n",
    "    rewards_mean, _ = doctor_A(s_id, drugs)\n",
    "    rwrds[i, 0] = rewards_mean[-1]\n",
    "    \n",
    "    rewards_mean, _ = doctor_B(s_id, drugs)\n",
    "    rwrds[i, 1] = rewards_mean[-1]\n",
    "    \n",
    "    rewards_mean, _ = doctor_C(s_id, drugs)\n",
    "    rwrds[i, 2] = rewards_mean[-1]\n",
    "    \n",
    "plt.figure(figsize=(10,6))\n",
    "plt.boxplot(rwrds)\n",
    "plt.ylabel('reward', fontsize=15, labelpad=10)\n",
    "plt.xlabel('doctor', fontsize=15, labelpad=10)\n",
    "plt.xticks([1,2,3], ['A','B','C'])\n",
    "plt.title('Boxplot for 100 Trials', fontsize=20);"
   ]
  },
  {
   "cell_type": "markdown",
   "id": "9bc006ed",
   "metadata": {},
   "source": [
    "---"
   ]
  }
 ],
 "metadata": {
  "kernelspec": {
   "display_name": "Python 3 (ipykernel)",
   "language": "python",
   "name": "python3"
  },
  "language_info": {
   "codemirror_mode": {
    "name": "ipython",
    "version": 3
   },
   "file_extension": ".py",
   "mimetype": "text/x-python",
   "name": "python",
   "nbconvert_exporter": "python",
   "pygments_lexer": "ipython3",
   "version": "3.9.12"
  }
 },
 "nbformat": 4,
 "nbformat_minor": 5
}
